{
 "cells": [
  {
   "cell_type": "code",
   "execution_count": 1,
   "metadata": {},
   "outputs": [],
   "source": [
    "import os\n",
    "if \"src\" in os.listdir(\"..\"):\n",
    "    os.chdir(\"..\")"
   ]
  },
  {
   "cell_type": "code",
   "execution_count": 2,
   "metadata": {},
   "outputs": [],
   "source": [
    "from src.base import Base\n",
    "from src.match import Match\n",
    "import re, datetime"
   ]
  },
  {
   "cell_type": "code",
   "execution_count": 7,
   "metadata": {},
   "outputs": [
    {
     "name": "stdout",
     "output_type": "stream",
     "text": [
      "<src.match.Match object at 0x7bbb981518b0>\n"
     ]
    }
   ],
   "source": [
    "today = datetime.datetime.today().strftime(\"%Y-%m-%d %H:%M\")\n",
    "Match(\"La Liga\", None, \"Fc Barcelona\", \"Fc Barcelona\").create()"
   ]
  },
  {
   "cell_type": "code",
   "execution_count": 4,
   "metadata": {},
   "outputs": [],
   "source": [
    "# url = \"https://www.laliga.com/en-FR/laliga-easports/results/2024-25/gameweek-1\"\n",
    "# soup = Base.get_soup(url)"
   ]
  },
  {
   "cell_type": "code",
   "execution_count": 5,
   "metadata": {},
   "outputs": [],
   "source": [
    "# matches = soup.select(\"tr:nth-child(3n+1)\")\n",
    "# print(len(matches))"
   ]
  },
  {
   "cell_type": "code",
   "execution_count": 6,
   "metadata": {},
   "outputs": [],
   "source": [
    "# item = matches[0]\n",
    "# match_date = Base.get_item(item, \"td:nth-of-type(2)\").split()[-1]\n",
    "# match_hour = Base.get_item(item, \"td:nth-of-type(3)\")\n",
    "# match_hour = list(map(int, match_hour.split(':')))\n",
    "# home_team, away_team = Base.get_item(item, \"td:nth-of-type(5)\").split(\" VS \")\n",
    "# match_date = datetime.datetime.strptime(match_date, \"%d.%m.%Y\")\n",
    "# match_date = match_date.replace(hour=match_hour[0], minute=match_hour[1])\n",
    "# match_date = match_date.strftime(\"%Y-%m-%d %H:%M\")\n",
    "# match_date, home_team, away_team"
   ]
  },
  {
   "cell_type": "code",
   "execution_count": null,
   "metadata": {},
   "outputs": [],
   "source": []
  }
 ],
 "metadata": {
  "kernelspec": {
   "display_name": "Python 3",
   "language": "python",
   "name": "python3"
  },
  "language_info": {
   "codemirror_mode": {
    "name": "ipython",
    "version": 3
   },
   "file_extension": ".py",
   "mimetype": "text/x-python",
   "name": "python",
   "nbconvert_exporter": "python",
   "pygments_lexer": "ipython3",
   "version": "3.9.18"
  }
 },
 "nbformat": 4,
 "nbformat_minor": 2
}
