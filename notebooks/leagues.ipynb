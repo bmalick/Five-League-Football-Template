{
 "cells": [
  {
   "cell_type": "code",
   "execution_count": 253,
   "metadata": {},
   "outputs": [],
   "source": [
    "import sys, requests, os, datetime\n",
    "sys.path.append(\"./src\")\n",
    "from team import Team\n",
    "from bs4 import BeautifulSoup\n",
    "from urllib.parse import urljoin"
   ]
  },
  {
   "cell_type": "code",
   "execution_count": 263,
   "metadata": {},
   "outputs": [],
   "source": [
    "from datetime import datetime\n",
    "\n",
    "# Input date string\n",
    "date_string = \"samedi 19 août 2023\"\n",
    "\n",
    "# Define a dictionary to map French day and month names to English\n",
    "french_to_english = {\n",
    "    \"janvier\": \"January\",\n",
    "    \"février\": \"February\",\n",
    "    \"mars\": \"March\",\n",
    "    \"avril\": \"April\",\n",
    "    \"mai\": \"May\",\n",
    "    \"juin\": \"June\",\n",
    "    \"juillet\": \"July\",\n",
    "    \"août\": \"August\",\n",
    "    \"septembre\": \"September\",\n",
    "    \"octobre\": \"October\",\n",
    "    \"novembre\": \"November\",\n",
    "    \"décembre\": \"December\"\n",
    "}\n",
    "\n"
   ]
  },
  {
   "cell_type": "markdown",
   "metadata": {},
   "source": [
    "PL"
   ]
  },
  {
   "cell_type": "code",
   "execution_count": 301,
   "metadata": {},
   "outputs": [
    {
     "name": "stdout",
     "output_type": "stream",
     "text": [
      "https://www.footmercato.net/italie/serie-a/calendrier/6059622015315718914-journee-1\n",
      "2023-08-19 00:00:00 Empoli Hellas 18:30\n",
      "2023-08-19 00:00:00 Frosinone Naples 18:30\n",
      "2023-08-19 00:00:00 Inter Milan Monza 20:45\n",
      "2023-08-19 00:00:00 Genoa Fiorentina 20:45\n",
      "2023-08-20 00:00:00 Sassuolo Atalanta 18:30\n",
      "2023-08-20 00:00:00 Rome Salernitana 18:30\n",
      "2023-08-20 00:00:00 Udinese Juventus 20:45\n",
      "2023-08-20 00:00:00 Lecce Lazio 20:45\n",
      "2023-08-21 00:00:00 Torino Cagliari 18:30\n",
      "2023-08-21 00:00:00 Bologne Milan 20:45\n"
     ]
    }
   ],
   "source": [
    "url = \"https://www.footmercato.net/italie/serie-a/calendrier/6059622015315718914-journee-1\"\n",
    "print(url)\n",
    "soup = BeautifulSoup(requests.get(url).text, \"html.parser\")\n",
    "match_tag = \"\"\n",
    "date_tag = \"\"\n",
    "hour_tag = \"\"\n",
    "teams_tag = \"\"\n",
    "for row in soup.select(\"div.blockVertical\"):\n",
    "    \n",
    "    match_date = row.select_one(\"p.title__left\").text\n",
    "    match_date = match_date.split()[1:]\n",
    "    match_date[1] = french_to_english[match_date[1]]\n",
    "    match_date = \" \".join(match_date)\n",
    "    match_date = datetime.strptime(match_date, \"%d %B %Y\")\n",
    "    # print(match_date)\n",
    "    for sub_row in row.select(\"div.blockVertical__content\"):\n",
    "        home_team = sub_row.select_one(\"div.matchFull a span.matchTeam__name\").text\n",
    "        away_team = sub_row.select(\"div.matchFull a span.matchTeam__name\")[-1].text\n",
    "        \n",
    "        match_hour = sub_row.select_one(\"div.matchFull a time\").text.split(\"\\n\")\n",
    "        # match_hour = [item for item in match_hour if len(item)>0][0].strip().split(\":\")\n",
    "        match_hour = [item for item in match_hour if len(item)>0][0].strip()\n",
    "        print(match_date, home_team, away_team, match_hour)\n"
   ]
  }
 ],
 "metadata": {
  "kernelspec": {
   "display_name": "Python 3",
   "language": "python",
   "name": "python3"
  },
  "language_info": {
   "codemirror_mode": {
    "name": "ipython",
    "version": 3
   },
   "file_extension": ".py",
   "mimetype": "text/x-python",
   "name": "python",
   "nbconvert_exporter": "python",
   "pygments_lexer": "ipython3",
   "version": "3.10.7"
  },
  "orig_nbformat": 4
 },
 "nbformat": 4,
 "nbformat_minor": 2
}
