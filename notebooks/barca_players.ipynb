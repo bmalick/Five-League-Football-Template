{
 "cells": [
  {
   "cell_type": "code",
   "execution_count": 122,
   "metadata": {},
   "outputs": [],
   "source": [
    "from urllib.request import urlopen\n",
    "from bs4 import BeautifulSoup\n",
    "import requests, os\n",
    "from dotenv import load_dotenv\n",
    "import re\n",
    "import unidecode\n",
    "import datetime"
   ]
  },
  {
   "cell_type": "code",
   "execution_count": 124,
   "metadata": {},
   "outputs": [],
   "source": [
    "\n",
    "load_dotenv()\n",
    "NOTION_API_KEY = os.getenv(\"NOTION_API_KEY\")\n",
    "PLAYERS_DB_ID = os.getenv(\"PLAYERS_DB_ID\")\n",
    "TEAMS_DB_ID = os.getenv(\"TEAMS_DB_ID\")\n",
    "MATCHES_DB_ID = os.getenv(\"MATCHES_DB_ID\")\n",
    "LA_LIGA_PAGE_ID = os.getenv(\"LA_LIGA_PAGE_ID\")\n",
    "NOTION_ENDPOINT = \"https://api.notion.com/v1/\"\n",
    "BARCA_ID = os.getenv(\"fcbarcelona\")\n",
    "headers = {\n",
    "            \"accept\": \"application/json\",\n",
    "            \"Notion-Version\": \"2022-06-28\",\n",
    "            \"content-type\": \"application/json\",\n",
    "            \"Authorization\": \"Bearer \" + NOTION_API_KEY \n",
    "        }"
   ]
  },
  {
   "cell_type": "code",
   "execution_count": 130,
   "metadata": {},
   "outputs": [
    {
     "data": {
      "text/plain": [
       "'e1037840-58e3-4e5b-b1a8-aa8a692cae88'"
      ]
     },
     "execution_count": 130,
     "metadata": {},
     "output_type": "execute_result"
    }
   ],
   "source": [
    "url= \"https://api.notion.com/v1/pages/\"+BARCA_ID\n",
    "data = requests.get(url, headers=headers).json()\n",
    "data[\"properties\"][\"League\"][\"relation\"][0][\"id\"]\n"
   ]
  },
  {
   "cell_type": "code",
   "execution_count": 117,
   "metadata": {},
   "outputs": [
    {
     "data": {
      "text/plain": [
       "4"
      ]
     },
     "execution_count": 117,
     "metadata": {},
     "output_type": "execute_result"
    }
   ],
   "source": [
    "html = urlopen(\"https://www.fcbarcelona.com/en/football/first-team/players/71253/abde-ezzalzouli\")\n",
    "soup = BeautifulSoup(html, \"html\")\n",
    "player_pos_tag   = \"div.player-hero__info-meta\"\n",
    "player_name_tag  = \"div.player-hero__name\"\n",
    "player_img_tag   = \"div.player-hero__img\"\n",
    "player_data_tag  = \"div.player-strip__data\"\n",
    "player_promo_tag = \"div.content-promo__title\"\n",
    "player_bio_tag   = \"div.player-bio__description\"\n",
    "\n",
    "len(soup.select(selector=\"div.player-strip__content > div.player-strip__info\"))\n"
   ]
  },
  {
   "cell_type": "code",
   "execution_count": 43,
   "metadata": {},
   "outputs": [
    {
     "data": {
      "text/plain": [
       "'https://www.fcbarcelona.com/en/football/first-team/players/71253/abde-ezzalzouli'"
      ]
     },
     "execution_count": 43,
     "metadata": {},
     "output_type": "execute_result"
    }
   ],
   "source": []
  },
  {
   "cell_type": "code",
   "execution_count": null,
   "metadata": {},
   "outputs": [],
   "source": [
    "\n",
    "def find_player_honours(soup):\n",
    "    player_honour_data = []\n",
    "    for elem in soup.find_all(attrs={\"class\":\"player-honour\"}):\n",
    "        player_honour_title = elem.find(attrs={\"class\": \"player-honour__title\"}).get_text()\n",
    "        player_honour_dates = elem.find(attrs={\"class\": \"player-honour__dates\"}).get_text().split()\n",
    "        player_honour_dates = [dates for dates in player_honour_dates if len(dates)>1]\n",
    "        player_honour_title_total = len(player_honour_dates)\n",
    "        player_honour_dates = \" | \".join(player_honour_dates)\n",
    "        player_honour_data_meta = \"{} {}🏆 → {}\".format(player_honour_title, player_honour_title_total, player_honour_dates)\n",
    "        player_honour_data.append(player_honour_data_meta)\n",
    "    return player_honour_data\n",
    "\n",
    "for link in soup.find_all(href=re.compile(r\"https.*first-team\")):\n",
    "    try:\n",
    "        player_soup = BeautifulSoup(urlopen(link.attrs[\"href\"]),\"html\")\n",
    "        player_soup = player_soup.find(attrs={\"class\":\"teams-page\"})\n",
    "        \n",
    "        player_data = {}\n",
    "        \n",
    "        player_name = find_player_info(player_soup,player_name_tag)\n",
    "        player_name = re.sub(\"\\n | \\s+\", \" \", player_name).split()\n",
    "        player_num = int(player_name[0])\n",
    "        player_name = \" \".join(player_name[1:])\n",
    "        player_pos = find_player_info(player_soup, player_pos_tag)\n",
    "        player_img = find_player_img(player_soup, player_img_tag)\n",
    "        player_promo = find_player_info(player_soup, player_promo_tag)\n",
    "        player_bio = find_player_data(player_soup, player_bio_tag)\n",
    "        player_bio = \" \".join(player_bio)\n",
    "        \n",
    "        player_data = find_player_data(player_soup, player_data_tag)\n",
    "        player_national_team = player_age = player_weight = player_height = \"\"\n",
    "\n",
    "        for elem in player_data:\n",
    "            if re.match(r\"\\D\", elem):\n",
    "                player_national_team = elem.split(\", \")[-1]\n",
    "            else:\n",
    "                if re.match(r\"\\d+/\", elem) and int(elem.split(\"/\")[-1])<2008:\n",
    "                    player_age = 2023-int(elem.split(\"/\")[-1])\n",
    "                elif re.match(\".*kg\",elem):\n",
    "                    player_weight = int(re.sub(\"kg\",\"\", elem))\n",
    "                elif re.match(\".*cm\",elem):\n",
    "                    player_height = int(re.sub(\"cm\",\"\", elem))\n",
    "        player_honours = find_player_honours(player_soup)\n",
    "        # print(player_name, player_national_team, player_age, player_pos, player_weight, player_height, player_num, player_img, player_honour_data)\n",
    "        # create_player(player_name, player_national_team, player_age, player_pos, player_weight, player_height, player_num, player_img, player_promo, player_bio, player_honours)\n",
    "        \n",
    "    except:\n",
    "        print(\"Data retrieval failed.\")"
   ]
  }
 ],
 "metadata": {
  "kernelspec": {
   "display_name": "Python 3",
   "language": "python",
   "name": "python3"
  },
  "language_info": {
   "codemirror_mode": {
    "name": "ipython",
    "version": 3
   },
   "file_extension": ".py",
   "mimetype": "text/x-python",
   "name": "python",
   "nbconvert_exporter": "python",
   "pygments_lexer": "ipython3",
   "version": "3.10.7"
  },
  "orig_nbformat": 4
 },
 "nbformat": 4,
 "nbformat_minor": 2
}
