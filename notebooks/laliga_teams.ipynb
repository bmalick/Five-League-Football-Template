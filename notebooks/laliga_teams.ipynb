{
 "cells": [
  {
   "cell_type": "code",
   "execution_count": null,
   "metadata": {},
   "outputs": [],
   "source": [
    "# LA_LIGA_TEAMS_URL = \"https://www.laliga.com/en-GB/laliga-santander\"\n",
    "# ONE_FOOTBALL_URL = \"https://onefootball.com/en/competition/laliga-10/table\"\n",
    "\n",
    "# team_links = []\n",
    "# html = requests.get(LA_LIGA_TEAMS_URL)\n",
    "# soup = BeautifulSoup(html.text, \"html\")\n",
    "# teams = soup.find(attrs={\"class\": \"styled__ClubesHeaderContainer-sc-1azasvg-0\"})\n",
    "# for team in teams.find_all(name=\"a\"):\n",
    "#     team_link = team.attrs[\"href\"]\n",
    "#     # print(team_link)\n",
    "#     team_links.append(team_link)\n",
    "# teams = {}\n",
    "# html = requests.get(ONE_FOOTBALL_URL)\n",
    "# soup = BeautifulSoup(html.text, \"html\")\n",
    "\n",
    "# for team_soup in soup.find_all(name=\"li\", attrs={\"class\":\"standings__row\"}):\n",
    "#     # print(team.get_text().split())\n",
    "#     try:\n",
    "#         team_title = team_soup.find(name=\"a\").attrs[\"aria-label\"]\n",
    "#         pattern = unidecode.unidecode(team_title.lower()).split()\n",
    "#         pattern1 = r\".*{}\".format(pattern[-1])\n",
    "#         pattern2 = r\".*{}\".format(\"\".join(pattern))\n",
    "#         pattern3 = r\".*{}\".format(\"-\".join(pattern))\n",
    "#         pattern4 = r\".*{}\".format(pattern[0])\n",
    "#         for i,link in enumerate(team_links):\n",
    "#             if re.match(pattern1,link) and re.match(pattern2,link):\n",
    "#                 teams[team_title] = [link]\n",
    "#                 team_links.pop(i)\n",
    "#             elif re.match(pattern3,link):\n",
    "#                 teams[team_title] = [link]\n",
    "#                 team_links.pop(i)\n",
    "\n",
    "#         if not team_title in teams:\n",
    "#             teams[team_title] = [LA_LIGA_TEAMS_URL]   \n",
    "#     except:\n",
    "#         pass\n",
    "# # print(teams)\n",
    "\n",
    "# for team in list(teams.keys()):\n",
    "#     search_url = \"https://en.wikipedia.org/wiki/football {}\".format(team)\n",
    "#     soup = BeautifulSoup(requests.get(search_url).text, \"html\")\n",
    "#     link = soup.find(name=\"a\", href=re.compile(r\"^(https://en).*wikipedia.*(?<!edit)$\")).attrs[\"href\"]\n",
    "#     soup = Beasoup = BeautifulSoup(requests.get(link).text, \"html\")\n",
    "#     team_wiki_link = soup.find(attrs={\"class\":\"mw-search-results-container\"}).find(name=\"a\").attrs[\"href\"]\n",
    "#     team_wiki_link = \"https://en.wikipedia.org\"+team_wiki_link\n",
    "#     soup = Beasoup = BeautifulSoup(requests.get(team_wiki_link).text, \"html\")\n",
    "#     team_logo = \"https:\"+soup.find(attrs={\"class\":\"image\"}).find(name=\"img\").attrs[\"src\"]\n",
    "#     team_full_name = soup.find(name=\"h1\").get_text()\n",
    "#     teams[team] += [team_logo, team_full_name]\n"
   ]
  },
  {
   "cell_type": "code",
   "execution_count": null,
   "metadata": {},
   "outputs": [],
   "source": [
    "# print(teams[\"Celta Vigo\"])"
   ]
  },
  {
   "cell_type": "code",
   "execution_count": null,
   "metadata": {},
   "outputs": [],
   "source": [
    "# headers = {\n",
    "#     \"accept\": \"application/json\",\n",
    "#     \"Notion-Version\": \"2022-06-28\",\n",
    "#     \"content-type\": \"application/json\",\n",
    "#     \"Authorization\": \"Bearer \" + NOTION_API_KEY \n",
    "# }\n",
    "# def create_team(team_url, team_logo, team_full_name):\n",
    "#     payload = {\n",
    "#         \"parent\": {\n",
    "#             \"type\": \"database_id\",\n",
    "#             \"database_id\": TEAMS_DB_ID\n",
    "#         },\n",
    "        \n",
    "#         \"icon\": {\n",
    "#             \"type\": \"external\",\n",
    "#             \"external\": {\"url\": team_logo}\n",
    "#         },\n",
    "        \n",
    "#         \"cover\": {\n",
    "#             \"type\": \"external\",\n",
    "#             \"external\": {\"url\": team_logo}\n",
    "#         },\n",
    "        \n",
    "#         \"properties\": {\n",
    "#             \"Name\": {\n",
    "#                 \"title\": [{\n",
    "#                     \"text\": {\"content\": team_full_name}\n",
    "#                 }]\n",
    "#             },\n",
    "#             \"Team URL\": {\"url\": team_url},\n",
    "#             \"League\": {\n",
    "#                 \"relation\": [{\"id\": LA_LIGA_PAGE_ID}]\n",
    "#             }\n",
    "#         }\n",
    "#     }\n",
    "#     response = requests.post(NOTION_ENDPOINT+\"pages/\", headers=headers, json=payload)\n",
    "#     response.raise_for_status()"
   ]
  },
  {
   "cell_type": "code",
   "execution_count": null,
   "metadata": {},
   "outputs": [],
   "source": [
    "# for team in teams:\n",
    "#     create_team(teams[team][0], teams[team][1], teams[team][2])"
   ]
  }
 ],
 "metadata": {
  "kernelspec": {
   "display_name": "Python 3",
   "language": "python",
   "name": "python3"
  },
  "language_info": {
   "codemirror_mode": {
    "name": "ipython",
    "version": 3
   },
   "file_extension": ".py",
   "mimetype": "text/x-python",
   "name": "python",
   "nbconvert_exporter": "python",
   "pygments_lexer": "ipython3",
   "version": "3.10.7"
  },
  "orig_nbformat": 4
 },
 "nbformat": 4,
 "nbformat_minor": 2
}
